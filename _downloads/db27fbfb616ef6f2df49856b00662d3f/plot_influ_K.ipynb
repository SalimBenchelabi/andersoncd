{
  "cells": [
    {
      "cell_type": "code",
      "execution_count": null,
      "metadata": {
        "collapsed": false
      },
      "outputs": [],
      "source": [
        "%matplotlib inline"
      ]
    },
    {
      "cell_type": "markdown",
      "metadata": {},
      "source": [
        "\n# Influence of number of extrapolated points K\n\nHow many points must be extrapolated for optimal performance?\n"
      ]
    },
    {
      "cell_type": "code",
      "execution_count": null,
      "metadata": {
        "collapsed": false
      },
      "outputs": [],
      "source": [
        "import numpy as np\nimport seaborn as sns\nimport matplotlib.pyplot as plt\n\nfrom scipy import sparse\nfrom numpy.linalg import norm\nfrom libsvmdata import fetch_libsvm\n\nfrom andersoncd.plot_utils import configure_plt, _plot_legend_apart\nfrom andersoncd.lasso import solver_enet\n\nsave_fig = False\n# save_fig = True\n\nconfigure_plt()"
      ]
    },
    {
      "cell_type": "markdown",
      "metadata": {},
      "source": [
        "Load the data:\n\n"
      ]
    },
    {
      "cell_type": "code",
      "execution_count": null,
      "metadata": {
        "collapsed": false
      },
      "outputs": [],
      "source": [
        "dataset = \"rcv1.binary\"\nX, y = fetch_libsvm(dataset)\nX = X[:, :2000]\n\nX.multiply(1 / sparse.linalg.norm(X, axis=0))\ny -= y.mean()\ny /= norm(y)"
      ]
    },
    {
      "cell_type": "markdown",
      "metadata": {},
      "source": [
        "Solve the problem for various values of K\n\n"
      ]
    },
    {
      "cell_type": "code",
      "execution_count": null,
      "metadata": {
        "collapsed": false
      },
      "outputs": [],
      "source": [
        "alpha = 0\ntol = 1e-12\nmax_iter = 2_000\nf_gap = 10\n\nK_list = [0, 2, 3, 4, 5, 10, 20]\n\ndict_Es = {}\ndict_times = {}\n\nfor K in K_list:\n    print(\"Running CD Anderson with K=%d\" % K)\n    use_acc = K != 0\n    _, E, _, times = solver_enet(\n        X, y, alpha=alpha, f_gap=f_gap, max_iter=max_iter, tol=tol,\n        algo=\"cd\", use_acc=use_acc, K=K, compute_time=True, verbose=False)\n    dict_Es[K] = E\n    dict_times[K] = times"
      ]
    },
    {
      "cell_type": "markdown",
      "metadata": {},
      "source": [
        "Plot results\n\n"
      ]
    },
    {
      "cell_type": "code",
      "execution_count": null,
      "metadata": {
        "collapsed": false
      },
      "outputs": [],
      "source": [
        "palette = sns.color_palette(\"colorblind\")\np_star = np.inf\nfor E in dict_Es.values():\n    p_star = min(p_star, min(E))\n\n\nfig, ax = plt.subplots(figsize=[9.3, 5.6], constrained_layout=True)\nfor i, K in enumerate(K_list):\n    times = dict_times[K]\n    E = dict_Es[K]\n    if K == 0:\n        label = \"CD, no acc\"\n        linestyle = 'solid'\n        color = palette[1]\n    else:\n        label = \"CD, K=%i\" % K\n        linestyle = 'dashed'\n        color = plt.cm.viridis(i / len(K_list))\n    ax.semilogy(\n        times, E - p_star,\n        # f_gap * np.arange(len(E)), E - p_star,\n        label=label, color=color, linestyle=linestyle)\n\n\nax.set_xlabel(r\"Times (s)\")\nax.set_yticks((1e-15, 1e-10, 1e-5, 1))\nax.set_ylabel(r\"Suboptimality\")\nplt.ylim(1e-15, 1)\n\nif save_fig:\n    fig_dir = \"\"\n    fig_dir_svg = \"\"\n    fig.savefig(\n        \"%sinflu_n_acc_K_time.pdf\" % fig_dir, bbox_inches=\"tight\")\n    fig.savefig(\n        \"%sinflu_n_acc_K_time.svg\" % fig_dir_svg, bbox_inches=\"tight\")\n    _plot_legend_apart(\n        ax, \"%sinflu_n_acc_K_time_legend.pdf\" % fig_dir, ncol=3)\n\nplt.legend()\nplt.show(block=False)"
      ]
    }
  ],
  "metadata": {
    "kernelspec": {
      "display_name": "Python 3",
      "language": "python",
      "name": "python3"
    },
    "language_info": {
      "codemirror_mode": {
        "name": "ipython",
        "version": 3
      },
      "file_extension": ".py",
      "mimetype": "text/x-python",
      "name": "python",
      "nbconvert_exporter": "python",
      "pygments_lexer": "ipython3",
      "version": "3.8.1"
    }
  },
  "nbformat": 4,
  "nbformat_minor": 0
}