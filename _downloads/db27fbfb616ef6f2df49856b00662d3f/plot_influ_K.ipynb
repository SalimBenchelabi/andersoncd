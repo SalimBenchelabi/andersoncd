{
  "cells": [
    {
      "cell_type": "code",
      "execution_count": null,
      "metadata": {
        "collapsed": false
      },
      "outputs": [],
      "source": [
        "%matplotlib inline"
      ]
    },
    {
      "cell_type": "markdown",
      "metadata": {},
      "source": [
        "\n# Influence of number of extrapolated points K\n\nHow many points must be extrapolated for optimal performance?\n"
      ]
    },
    {
      "cell_type": "code",
      "execution_count": null,
      "metadata": {
        "collapsed": false
      },
      "outputs": [],
      "source": [
        "import numpy as np\nimport seaborn as sns\nimport matplotlib.pyplot as plt\n\nfrom scipy import sparse\nfrom numpy.linalg import norm\nfrom libsvmdata import fetch_libsvm\n\nfrom andersoncd.plot_utils import configure_plt\nfrom andersoncd.lasso import solver_enet\n\n\nconfigure_plt()"
      ]
    },
    {
      "cell_type": "markdown",
      "metadata": {},
      "source": [
        "Load the data:\n\n"
      ]
    },
    {
      "cell_type": "code",
      "execution_count": null,
      "metadata": {
        "collapsed": false
      },
      "outputs": [],
      "source": [
        "dataset = \"rcv1_train\"\nX, y = fetch_libsvm(dataset)\nX = X[:, :1000]\n\nX.multiply(1 / sparse.linalg.norm(X, axis=0))\ny -= y.mean()\ny /= norm(y)"
      ]
    },
    {
      "cell_type": "markdown",
      "metadata": {},
      "source": [
        "Solve the problem for various values of K\n\n"
      ]
    },
    {
      "cell_type": "code",
      "execution_count": null,
      "metadata": {
        "collapsed": false
      },
      "outputs": [],
      "source": [
        "alpha = 0\ntol = 1e-15\nmax_iter = 1000\nf_gap = 10\n\nK_list = [0, 2, 3, 4, 5, 10, 20]\n\ndict_Es = {}\n\nfor K in K_list:\n    print(\"Running CD Anderson with K=%d\" % K)\n    use_acc = K != 0\n    w, E, _ = solver_enet(\n        X, y, alpha=alpha, f_gap=f_gap, max_iter=max_iter, tol=tol,\n        algo=\"cd\", use_acc=use_acc, K=K)\n    dict_Es[K] = E"
      ]
    },
    {
      "cell_type": "markdown",
      "metadata": {},
      "source": [
        "Plot results\n\n"
      ]
    },
    {
      "cell_type": "code",
      "execution_count": null,
      "metadata": {
        "collapsed": false
      },
      "outputs": [],
      "source": [
        "palette = sns.color_palette(\"colorblind\")\np_star = np.inf\nfor E in dict_Es.values():\n    p_star = min(p_star, min(E))\n\n\nfig, ax = plt.subplots(figsize=[9.3, 5.6])\nfor i, K in enumerate(K_list):\n    E = dict_Es[K]\n    if K == 0:\n        label = \"CD, no acc\"\n        linestyle = 'solid'\n        color = palette[1]\n    else:\n        label = \"CD, K=%i\" % K\n        linestyle = 'dashed'\n        color = plt.cm.viridis(i / len(K_list))\n    ax.semilogy(\n        f_gap * np.arange(len(E)), E - p_star,\n        label=label, color=color, linestyle=linestyle)\n\n\nax.set_xlabel(r\"iteration $k$\")\nax.set_yticks((1e-15, 1e-10, 1e-5, 1))\nax.set_ylabel(r\"$f(x^{(k)}) - f(x^*)$\")\nplt.tight_layout()\n\nplt.legend()\nplt.show(block=False)"
      ]
    }
  ],
  "metadata": {
    "kernelspec": {
      "display_name": "Python 3",
      "language": "python",
      "name": "python3"
    },
    "language_info": {
      "codemirror_mode": {
        "name": "ipython",
        "version": 3
      },
      "file_extension": ".py",
      "mimetype": "text/x-python",
      "name": "python",
      "nbconvert_exporter": "python",
      "pygments_lexer": "ipython3",
      "version": "3.8.1"
    }
  },
  "nbformat": 4,
  "nbformat_minor": 0
}