{
  "cells": [
    {
      "cell_type": "code",
      "execution_count": null,
      "metadata": {
        "collapsed": false
      },
      "outputs": [],
      "source": [
        "%matplotlib inline"
      ]
    },
    {
      "cell_type": "markdown",
      "metadata": {},
      "source": [
        "\n# Influence of linear system regularization\n\nWhy regularizing the linear system seems to hurt Anderson performance.\n"
      ]
    },
    {
      "cell_type": "code",
      "execution_count": null,
      "metadata": {
        "collapsed": false
      },
      "outputs": [],
      "source": [
        "import numpy as np\nimport seaborn as sns\nimport matplotlib.pyplot as plt\nfrom libsvmdata import fetch_libsvm\n\nfrom andersoncd.plot_utils import configure_plt, _plot_legend_apart\nfrom andersoncd.logreg import solver_logreg\n\n\nconfigure_plt()"
      ]
    },
    {
      "cell_type": "markdown",
      "metadata": {},
      "source": [
        "Load the data:\nn_features = 1000\n\n"
      ]
    },
    {
      "cell_type": "code",
      "execution_count": null,
      "metadata": {
        "collapsed": false
      },
      "outputs": [],
      "source": [
        "X, y = fetch_libsvm('rcv1_train', normalize=True)"
      ]
    },
    {
      "cell_type": "markdown",
      "metadata": {},
      "source": [
        "Run solver with various regularization strengths:\nalpha = 0\n\n"
      ]
    },
    {
      "cell_type": "code",
      "execution_count": null,
      "metadata": {
        "collapsed": false
      },
      "outputs": [],
      "source": [
        "div_alpha = 30\nalpha_max = np.max(np.abs(X.T @ y)) / 2\nalpha = alpha_max / div_alpha\n\ntol = 1e-10\nf_gap = 10\nmax_iter = 600\n\nreg_amount_list = [1e-3, 1e-4, 1e-5, 1e-7, None]\n\ndict_Es = {}\n\nfor reg_amount in reg_amount_list:\n    E = solver_logreg(\n        X, y, alpha=alpha, f_gap=f_gap, max_iter=max_iter, tol=tol,\n        algo=\"cd\", use_acc=True, reg_amount=reg_amount, verbose=True)[1]\n    dict_Es[reg_amount] = E.copy()\n\nE_noacc = solver_logreg(\n    X, y, alpha=alpha, f_gap=f_gap, max_iter=max_iter,\n    algo=\"cd\", use_acc=False, tol=tol, verbose=True)[1]\n\npalette = sns.color_palette(\"colorblind\")\n\n\np_star = np.inf\nfor E in dict_Es.values():\n    p_star = min(p_star, min(E))"
      ]
    },
    {
      "cell_type": "markdown",
      "metadata": {},
      "source": [
        "Plot results\n\n"
      ]
    },
    {
      "cell_type": "code",
      "execution_count": null,
      "metadata": {
        "collapsed": false
      },
      "outputs": [],
      "source": [
        "plt.close('all')\nfig, ax = plt.subplots(figsize=(8, 5))\n\nax.semilogy(\n    f_gap * np.arange(len(E_noacc)), (E_noacc - p_star) / E_noacc[0],\n    label=\"PCD, no acc.\", color=palette[1])\n\n\nfor i, reg_amount in enumerate(reg_amount_list):\n    E = dict_Es[reg_amount]\n\n    if reg_amount is None:\n        label = r\"$\\lambda_{\\mathrm{reg}} = 0$\"\n        color = palette[1]\n    else:\n        label = r\"$\\lambda_{\\mathrm{reg}} = 10^{%d}$\" % np.log10(\n            reg_amount)\n        color = plt.cm.viridis((i + 1) / len(reg_amount_list))\n    ax.semilogy(\n        f_gap * np.arange(len(E)), (E - p_star) / E[0],\n        label=label, color=color, linestyle=\"dashed\")\n\n\nax.set_yticks((1e-15, 1e-10, 1e-5, 1))\nplt.ylabel(r\"$f(x^{(k)}) - f(x^{*})$\")\nplt.xlabel(r\"iteration $k$\")\nplt.xlim(0, 600)\nplt.ylim(1e-15, 1)\nplt.tight_layout()\n\n\nsave_fig = True\nfig_dir = \"../\"\nfig_dir_svg = \"../\"\n\nif save_fig:\n    fig.savefig(\n        \"%sinflu_reg_amount_logreg.pdf\" % fig_dir, bbox_inches=\"tight\")\n    fig.savefig(\n        \"%sinflu_reg_amount_logreg.svg\" % fig_dir_svg, bbox_inches=\"tight\")\n    fig = _plot_legend_apart(\n        ax, \"%sinflu_reg_amount_logreg_legend.pdf\" % fig_dir, ncol=3)\n\n\nplt.legend()\nplt.show(block=False)"
      ]
    }
  ],
  "metadata": {
    "kernelspec": {
      "display_name": "Python 3",
      "language": "python",
      "name": "python3"
    },
    "language_info": {
      "codemirror_mode": {
        "name": "ipython",
        "version": 3
      },
      "file_extension": ".py",
      "mimetype": "text/x-python",
      "name": "python",
      "nbconvert_exporter": "python",
      "pygments_lexer": "ipython3",
      "version": "3.8.1"
    }
  },
  "nbformat": 4,
  "nbformat_minor": 0
}