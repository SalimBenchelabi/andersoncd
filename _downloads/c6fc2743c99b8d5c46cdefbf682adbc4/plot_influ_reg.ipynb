{
  "cells": [
    {
      "cell_type": "code",
      "execution_count": null,
      "metadata": {
        "collapsed": false
      },
      "outputs": [],
      "source": [
        "%matplotlib inline"
      ]
    },
    {
      "cell_type": "markdown",
      "metadata": {},
      "source": [
        "\n# Influence of linear system regularization\n\nWhy regularizing the linear system seems to hurt Anderson performance.\n"
      ]
    },
    {
      "cell_type": "code",
      "execution_count": null,
      "metadata": {
        "collapsed": false
      },
      "outputs": [],
      "source": [
        "import numpy as np\nimport seaborn as sns\nfrom scipy import sparse\nfrom numpy.linalg import norm\nimport matplotlib.pyplot as plt\nfrom scipy.sparse.linalg import cg\nfrom celer.datasets import fetch_libsvm\nfrom celer.plot_utils import configure_plt\n\nfrom andersoncd.lasso import solver_enet, primal_enet\n\n\nconfigure_plt()"
      ]
    },
    {
      "cell_type": "markdown",
      "metadata": {},
      "source": [
        "Load the data:\n\n"
      ]
    },
    {
      "cell_type": "code",
      "execution_count": null,
      "metadata": {
        "collapsed": false
      },
      "outputs": [],
      "source": [
        "n_features = 1000\nX, y = fetch_libsvm('rcv1_train')\nX = X[:, :n_features]\n\nX.multiply(1 / sparse.linalg.norm(X, axis=0))\ny -= y.mean()\ny /= norm(y)"
      ]
    },
    {
      "cell_type": "markdown",
      "metadata": {},
      "source": [
        "Run solver with various regularization strengths:\n\n"
      ]
    },
    {
      "cell_type": "code",
      "execution_count": null,
      "metadata": {
        "collapsed": false
      },
      "outputs": [],
      "source": [
        "alpha = 0\ntol = 1e-15\nf_gap = 10\nmax_iter = 1000\n\nreg_amount_list = [1e-3, 1e-4, 1e-5, 1e-10, None]\n\ndict_Es = {}\n\nfor reg_amount in reg_amount_list:\n    w, E, _ = solver_enet(\n        X, y, alpha=alpha, f_gap=f_gap, max_iter=max_iter, tol=tol,\n        algo=\"cd\", use_acc=True, reg_amount=reg_amount)\n    dict_Es[reg_amount] = E.copy()\n\nE_noacc = solver_enet(X, y, alpha=alpha, f_gap=f_gap, max_iter=max_iter,\n                      algo=\"cd\", use_acc=False)[1]\n\npalette = sns.color_palette(\"colorblind\")\n\n\np_star = np.inf\nfor E in dict_Es.values():\n    p_star = min(p_star, min(E))"
      ]
    },
    {
      "cell_type": "markdown",
      "metadata": {},
      "source": [
        "Plot results\n\n"
      ]
    },
    {
      "cell_type": "code",
      "execution_count": null,
      "metadata": {
        "collapsed": false
      },
      "outputs": [],
      "source": [
        "plt.close('all')\nfig, ax = plt.subplots(figsize=(8, 5))\n\nax.semilogy(\n    f_gap * np.arange(len(E_noacc)), E_noacc - p_star,\n    label=\"CD, no acc.\", color=palette[1])\n\n\nfor i, reg_amount in enumerate(reg_amount_list):\n    E = dict_Es[reg_amount]\n\n    if reg_amount is None:\n        label = r\"$\\lambda_{\\mathrm{reg}} = 0$\"\n        color = palette[1]\n    else:\n        label = r\"$\\lambda_{\\mathrm{reg}} = 10^{%d}$\" % np.log10(\n            reg_amount)\n        color = plt.cm.viridis((i + 1) / len(reg_amount_list))\n    ax.semilogy(\n        f_gap * np.arange(len(E)), E - p_star,\n        label=label, color=color, linestyle=\"dashed\")\n\n\nax.set_yticks((1e-15, 1e-10, 1e-5, 1))\nplt.ylabel(r\"$f(x^{(k)}) - f(x^{*})$\")\nplt.xlabel(r\"iteration $k$\")\nplt.tight_layout()\nplt.legend()\nplt.show(block=False)"
      ]
    }
  ],
  "metadata": {
    "kernelspec": {
      "display_name": "Python 3",
      "language": "python",
      "name": "python3"
    },
    "language_info": {
      "codemirror_mode": {
        "name": "ipython",
        "version": 3
      },
      "file_extension": ".py",
      "mimetype": "text/x-python",
      "name": "python",
      "nbconvert_exporter": "python",
      "pygments_lexer": "ipython3",
      "version": "3.8.1"
    }
  },
  "nbformat": 4,
  "nbformat_minor": 0
}